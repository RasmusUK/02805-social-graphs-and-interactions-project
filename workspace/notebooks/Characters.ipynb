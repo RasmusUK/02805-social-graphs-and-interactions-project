{
 "cells": [
  {
   "cell_type": "code",
   "execution_count": 540,
   "metadata": {},
   "outputs": [],
   "source": [
    "import requests\n",
    "import re\n",
    "import os\n",
    "from bs4 import BeautifulSoup\n",
    "import pickle\n",
    "import bz2file as bz2"
   ]
  },
  {
   "cell_type": "code",
   "execution_count": 541,
   "metadata": {},
   "outputs": [],
   "source": [
    "baseUrl = \"https://gameofthronesfanon.fandom.com/\""
   ]
  },
  {
   "cell_type": "code",
   "execution_count": 542,
   "metadata": {},
   "outputs": [],
   "source": [
    "def save(title, data):\n",
    "    with bz2.BZ2File(f\"{title}.pbz2\", \"w\") as f:\n",
    "        pickle.dump(data, f)"
   ]
  },
  {
   "cell_type": "code",
   "execution_count": 543,
   "metadata": {},
   "outputs": [],
   "source": [
    "def load(title):\n",
    "    with bz2.BZ2File(f\"{title}.pbz2\", \"r\") as f:\n",
    "        return pickle.load(f)"
   ]
  },
  {
   "cell_type": "code",
   "execution_count": 544,
   "metadata": {},
   "outputs": [],
   "source": [
    "def fetch_page(url):\n",
    "    response = requests.get(url)\n",
    "    response.raise_for_status()\n",
    "    return response.text"
   ]
  },
  {
   "cell_type": "code",
   "execution_count": 545,
   "metadata": {},
   "outputs": [],
   "source": [
    "def save_to_file(content, filename):\n",
    "    with open(filename, 'w', encoding='utf-8') as file:\n",
    "        file.write(content)"
   ]
  },
  {
   "cell_type": "code",
   "execution_count": 546,
   "metadata": {},
   "outputs": [],
   "source": [
    "# Get all urls for the characters\n",
    "urls = []\n",
    "for char in [\"a\", \"b\", \"c\", \"d\", \"e\", \"f\", \"g\", \"h\", \"i\", \"j\", \"k\", \"l\", \"m\", \"n\", \"o\", \"p\", \"q\", \"r\", \"s\", \"t\", \"u\", \"v\", \"w\", \"x\", \"y\", \"z\"]:\n",
    "     url = f\"{baseUrl}wiki/Category:Characters?from={char}\"\n",
    "     urls.append(url)"
   ]
  },
  {
   "cell_type": "code",
   "execution_count": 547,
   "metadata": {},
   "outputs": [],
   "source": [
    "# Get all characters from the Game of Thrones Fanon Wiki\n",
    "if not os.path.exists('../data/all_characters.html'):   \n",
    "    all_content = \"\"\n",
    "    for url in urls:\n",
    "        content = fetch_page(url)\n",
    "        if content:\n",
    "            all_content += content\n",
    "        else:\n",
    "            print(f\"Failed to fetch {url}\")\n",
    "\n",
    "    save_to_file(all_content, '../data/all_characters.html')"
   ]
  },
  {
   "cell_type": "code",
   "execution_count": 548,
   "metadata": {},
   "outputs": [],
   "source": [
    "class BiographicalInfo:\n",
    "    def __init__(self, name, birth_year, birth_place):\n",
    "        self.name = name\n",
    "        self.birth_year = birth_year\n",
    "        self.birth_place = birth_place\n",
    "    \n",
    "    def __repr__(self):\n",
    "        return f\"{self.name} was born in {self.birth_place} in {self.birth_year}\""
   ]
  },
  {
   "cell_type": "code",
   "execution_count": 549,
   "metadata": {},
   "outputs": [],
   "source": [
    "class PoliticalInfo:\n",
    "    def __init__(self, houses, titles):\n",
    "        self.houses = houses\n",
    "        self.titles = titles\n",
    "    \n",
    "    def __repr__(self):\n",
    "        return f\"{self.titles} of {self.houses}\""
   ]
  },
  {
   "cell_type": "code",
   "execution_count": 550,
   "metadata": {},
   "outputs": [],
   "source": [
    "class PersonalInfo:\n",
    "    def __init__(self, aka, culture, religon, father, mother, spouses, issues, siblings):\n",
    "        self.aka = aka\n",
    "        self.culture = culture\n",
    "        self.religon = religon\n",
    "        self.father = father\n",
    "        self.mother = mother\n",
    "        self.spouses = spouses\n",
    "        self.issues = issues\n",
    "        self.siblings = siblings\n",
    "    \n",
    "    def __repr__(self):\n",
    "        return f\"{self.aka} {self.culture} {self.religon} {self.father} {self.mother} {self.spouses} {self.issues} {self.siblings}\""
   ]
  },
  {
   "cell_type": "code",
   "execution_count": 551,
   "metadata": {},
   "outputs": [],
   "source": [
    "class Character:\n",
    "    def __init__(self, name, url, html, text):\n",
    "        self.name = name\n",
    "        self.url = url\n",
    "        self.html = html\n",
    "        self.text = text\n",
    "        self.references = []\n",
    "        self.biographical_info = None\n",
    "        self.personal_info = None\n",
    "        self.political_info = None\n",
    "\n",
    "    def __repr__(self):\n",
    "        return f\"Character(name={self.name}, url={self.url})\""
   ]
  },
  {
   "cell_type": "code",
   "execution_count": 552,
   "metadata": {},
   "outputs": [],
   "source": [
    "def get_text(url):\n",
    "    response = requests.get(url)\n",
    "    soup = BeautifulSoup(response.text, 'html.parser')\n",
    "    text = soup.get_text(separator=\"\\n\", strip=True)\n",
    "    return text"
   ]
  },
  {
   "cell_type": "code",
   "execution_count": 553,
   "metadata": {},
   "outputs": [],
   "source": [
    "def get_html(url):\n",
    "    content = fetch_page(url)\n",
    "    return content"
   ]
  },
  {
   "cell_type": "code",
   "execution_count": 554,
   "metadata": {},
   "outputs": [],
   "source": [
    "def create_character(name, url):\n",
    "    text = get_text(url)\n",
    "    html = get_html(url)\n",
    "    character = Character(name, url, html, text)\n",
    "    return character"
   ]
  },
  {
   "cell_type": "code",
   "execution_count": 555,
   "metadata": {},
   "outputs": [],
   "source": [
    "def get_characters_from_matches(matches):\n",
    "    skip = [\"Category:\", \"User:\"]\n",
    "    characters = []\n",
    "    for href, title in matches:\n",
    "        if any(s in title for s in skip):\n",
    "            continue\n",
    "        try:\n",
    "            character = create_character(title, baseUrl + href)\n",
    "            characters.append(character)\n",
    "        except Exception as e:\n",
    "            pass\n",
    "\n",
    "    return characters"
   ]
  },
  {
   "cell_type": "code",
   "execution_count": 556,
   "metadata": {},
   "outputs": [],
   "source": [
    "def get_all_character_matches_of_html():\n",
    "    with open('../data/all_characters.html', 'r', encoding='utf-8') as file:\n",
    "        all_characters_html = file.read()\n",
    "        pattern = r'<a\\s+href=\"([^\"]+)\"\\s+title=\"([^\"]+)\"'\n",
    "        matches = re.findall(pattern, all_characters_html)\n",
    "        return matches"
   ]
  },
  {
   "cell_type": "code",
   "execution_count": 557,
   "metadata": {},
   "outputs": [],
   "source": [
    "# get all characters from the html file and add the text and raw html to the character\n",
    "path = '../data/characters'\n",
    "characters = []\n",
    "if os.path.exists(f\"{path}.pbz2\"):\n",
    "    characters = load(path)\n",
    "else:    \n",
    "    matches = get_all_character_matches_of_html()\n",
    "    characters = get_characters_from_matches(matches)\n",
    "    save(path, characters)"
   ]
  },
  {
   "cell_type": "code",
   "execution_count": 558,
   "metadata": {},
   "outputs": [],
   "source": [
    "# add references to the characters\n",
    "pattern = r'<a\\s+href=\"([^\"]+)\"'\n",
    "all_character_urls = [character.url for character in characters]\n",
    "for character in characters:\n",
    "    matches = re.findall(pattern, character.html)\n",
    "    for href in matches:\n",
    "        url = baseUrl + href\n",
    "        if url in all_character_urls and url != character.url:\n",
    "            reference = [c for c in characters if c.url == url][0]\n",
    "            character.references.append(reference)"
   ]
  },
  {
   "cell_type": "code",
   "execution_count": 559,
   "metadata": {},
   "outputs": [],
   "source": [
    "class CharacterAttribute:\n",
    "    def __init__(self, data_source_title, texts):\n",
    "        self.data_source_title = data_source_title\n",
    "        self.texts = texts\n",
    "        self.hrefs = []\n",
    "\n",
    "    def __repr__(self):\n",
    "        return f\"{self.data_source_title} {self.texts} {self.hrefs}\""
   ]
  },
  {
   "cell_type": "code",
   "execution_count": 560,
   "metadata": {},
   "outputs": [],
   "source": [
    "def get_by_data_source(character, data_source_title, tag):\n",
    "    soup = BeautifulSoup(character.html, 'html.parser')\n",
    "    result = soup.find(attrs={\"data-source\": data_source_title})\n",
    "    if result:\n",
    "        if tag is None:\n",
    "            results = result\n",
    "        else:\n",
    "            results = result.findAll(tag)\n",
    "        texts = [result.text for result in results]\n",
    "        characterAttribute = CharacterAttribute(data_source_title, texts)\n",
    "        if tag == \"a\":\n",
    "            hrefs = [result['href'] for result in results]\n",
    "            characterAttribute.hrefs = hrefs\n",
    "        return characterAttribute\n",
    "    return None"
   ]
  },
  {
   "cell_type": "code",
   "execution_count": 561,
   "metadata": {},
   "outputs": [],
   "source": [
    "def get_name(character):\n",
    "    return get_by_data_source(character, \"Title\", None)"
   ]
  },
  {
   "cell_type": "code",
   "execution_count": 562,
   "metadata": {},
   "outputs": [],
   "source": [
    "def get_birth_year(character):\n",
    "    return get_by_data_source(character, \"Birth\", \"div\")"
   ]
  },
  {
   "cell_type": "code",
   "execution_count": 563,
   "metadata": {},
   "outputs": [],
   "source": [
    "def get_birth_place(character):\n",
    "    return get_by_data_source(character, \"Birth\", \"a\")"
   ]
  },
  {
   "cell_type": "code",
   "execution_count": 564,
   "metadata": {},
   "outputs": [],
   "source": [
    "def get_titles(character):\n",
    "    return get_by_data_source(character, \"Titles\", \"a\")"
   ]
  },
  {
   "cell_type": "code",
   "execution_count": 565,
   "metadata": {},
   "outputs": [],
   "source": [
    "def get_houses(character):\n",
    "    return get_by_data_source(character, \"House\", \"a\")"
   ]
  },
  {
   "cell_type": "code",
   "execution_count": 566,
   "metadata": {},
   "outputs": [],
   "source": [
    "def get_AKA(character):\n",
    "    return get_by_data_source(character, \"AKA\", \"div\")"
   ]
  },
  {
   "cell_type": "code",
   "execution_count": 567,
   "metadata": {},
   "outputs": [],
   "source": [
    "def get_culture(character):\n",
    "    return get_by_data_source(character, \"Culture\", \"a\")"
   ]
  },
  {
   "cell_type": "code",
   "execution_count": 568,
   "metadata": {},
   "outputs": [],
   "source": [
    "def get_religion(character):\n",
    "    return get_by_data_source(character, \"Religion\", \"a\")"
   ]
  },
  {
   "cell_type": "code",
   "execution_count": 569,
   "metadata": {},
   "outputs": [],
   "source": [
    "def get_father(character):\n",
    "    return get_by_data_source(character, \"Father\", \"a\")"
   ]
  },
  {
   "cell_type": "code",
   "execution_count": 570,
   "metadata": {},
   "outputs": [],
   "source": [
    "def get_mother(character):\n",
    "    return get_by_data_source(character, \"Mother\", \"a\")"
   ]
  },
  {
   "cell_type": "code",
   "execution_count": 571,
   "metadata": {},
   "outputs": [],
   "source": [
    "def get_spouses(character):\n",
    "    return get_by_data_source(character, \"Spouse\", \"div\")"
   ]
  },
  {
   "cell_type": "code",
   "execution_count": 572,
   "metadata": {},
   "outputs": [],
   "source": [
    "def get_issues(character):\n",
    "    return get_by_data_source(character, \"Issue\", \"a\")"
   ]
  },
  {
   "cell_type": "code",
   "execution_count": 573,
   "metadata": {},
   "outputs": [],
   "source": [
    "def get_siblings(character):\n",
    "    return get_by_data_source(character, \"Siblings\", \"a\")"
   ]
  },
  {
   "cell_type": "code",
   "execution_count": 574,
   "metadata": {},
   "outputs": [],
   "source": [
    "def get_character_bibliographical_info(character):\n",
    "    name = get_name(character)\n",
    "    birth_place = get_birth_place(character)\n",
    "    birth_year = get_birth_year(character)\n",
    "    return BiographicalInfo(name, birth_year, birth_place)"
   ]
  },
  {
   "cell_type": "code",
   "execution_count": 575,
   "metadata": {},
   "outputs": [],
   "source": [
    "def get_political_info(character):\n",
    "    houses = get_houses(character)\n",
    "    titles = get_titles(character)\n",
    "    return PoliticalInfo(houses, titles)"
   ]
  },
  {
   "cell_type": "code",
   "execution_count": 576,
   "metadata": {},
   "outputs": [],
   "source": [
    "def get_personal_info(character):\n",
    "    aka = get_AKA(character)\n",
    "    culture = get_culture(character)\n",
    "    religion = get_religion(character)\n",
    "    father = get_father(character)\n",
    "    mother = get_mother(character)\n",
    "    spouses = get_spouses(character)\n",
    "    issues = get_issues(character)\n",
    "    siblings = get_siblings(character)\n",
    "    return PersonalInfo(aka, culture, religion, father, mother, spouses, issues, siblings)"
   ]
  },
  {
   "cell_type": "code",
   "execution_count": 577,
   "metadata": {},
   "outputs": [],
   "source": [
    "# add attributes to the characters\n",
    "path = '../data/characters_with_data'\n",
    "if os.path.exists(f\"{path}.pbz2\"):\n",
    "    characters = load(path)\n",
    "else:   \n",
    "    for character in characters:\n",
    "        character.biographical_info = get_character_bibliographical_info(character)\n",
    "        character.political_info = get_political_info(character)\n",
    "        character.personal_info = get_personal_info(character) \n",
    "    save(path, characters)"
   ]
  }
 ],
 "metadata": {
  "kernelspec": {
   "display_name": "myenv",
   "language": "python",
   "name": "python3"
  },
  "language_info": {
   "codemirror_mode": {
    "name": "ipython",
    "version": 3
   },
   "file_extension": ".py",
   "mimetype": "text/x-python",
   "name": "python",
   "nbconvert_exporter": "python",
   "pygments_lexer": "ipython3",
   "version": "3.11.9"
  }
 },
 "nbformat": 4,
 "nbformat_minor": 2
}
